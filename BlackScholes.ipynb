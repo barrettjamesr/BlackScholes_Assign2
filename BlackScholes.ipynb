{
 "cells": [
  {
   "cell_type": "code",
   "execution_count": 13,
   "metadata": {
    "collapsed": false
   },
   "outputs": [
    {
     "name": "stdout",
     "output_type": "stream",
     "text": [
      "Stock Price:100\n",
      "Strike Price:100\n",
      "risk free rate:0.01\n",
      "time to maturity:0.5\n",
      "volatility:0.2\n",
      "Call price is 5.87602423383\n",
      "Put price is 5.3772721531\n"
     ]
    }
   ],
   "source": [
    "import numpy as np\n",
    "from scipy.stats import norm\n",
    "\n",
    "def BlackScholesCall(S, X, r, t, vol):\n",
    "    d1 = (np.log(float(S)/float(X))+(float(r)+float(vol)**2 / 2)*float(t))/(float(vol)*float(t)**0.5)\n",
    "    d2 = d1 - float(vol) * float(t) ** 0.5\n",
    "    \n",
    "    return float(S) * norm.cdf(d1) - norm.cdf(d2) * float(X) / np.exp(float(r) * float(t))\n",
    "\n",
    "def BlackScholesPut(S, X, r, t, vol):\n",
    "    d1 = (np.log(float(S)/float(X))+(float(r)+float(vol)**2 / 2)*float(t))/(float(vol)*float(t)**0.5)\n",
    "    d2 = d1 - float(vol) * float(t) ** 0.5\n",
    "    \n",
    "    return norm.cdf(0-d2) * float(X) / np.exp(float(r) * float(t)) -float(S) * norm.cdf(0-d1)\n",
    "\n",
    "def main():\n",
    "    S = input(\"Stock Price:\")\n",
    "    X = input(\"Strike Price:\")\n",
    "    r = input(\"risk free rate:\")\n",
    "    t = input(\"time to maturity:\")\n",
    "    vol = input(\"volatility:\")\n",
    "\n",
    "    print (\"Call price is \" + str(BlackScholesCall(S, X, r, t, vol)))\n",
    "    print (\"Put price is \" + str(BlackScholesPut(S, X, r, t, vol)))\n",
    "           \n",
    "    \n",
    "main()\n",
    "\n"
   ]
  },
  {
   "cell_type": "code",
   "execution_count": null,
   "metadata": {
    "collapsed": false
   },
   "outputs": [],
   "source": []
  },
  {
   "cell_type": "code",
   "execution_count": null,
   "metadata": {
    "collapsed": false
   },
   "outputs": [],
   "source": []
  }
 ],
 "metadata": {
  "kernelspec": {
   "display_name": "Python 3",
   "language": "python",
   "name": "python3"
  },
  "language_info": {
   "codemirror_mode": {
    "name": "ipython",
    "version": 3
   },
   "file_extension": ".py",
   "mimetype": "text/x-python",
   "name": "python",
   "nbconvert_exporter": "python",
   "pygments_lexer": "ipython3",
   "version": "3.6.0"
  }
 },
 "nbformat": 4,
 "nbformat_minor": 2
}
