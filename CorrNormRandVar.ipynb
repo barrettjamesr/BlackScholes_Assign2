{
 "cells": [
  {
   "cell_type": "code",
   "execution_count": null,
   "metadata": {
    "collapsed": true
   },
   "outputs": [],
   "source": [
    "import numpy as np\n",
    "\n",
    "#(a)\n",
    "def stdNorm(size):\n",
    "    mu, sigma = 0, 1 # mean and standard deviation\n",
    "    return np.random.normal(mu, sigma, size)\n",
    "\n",
    "#(c)\n",
    "def generateZed(ex, wai, rho):\n",
    "    return rho * ex + (1-rho **2)**0.5 * wai\n",
    "\n",
    "def main():\n",
    "    #(b)\n",
    "    X = stdNorm(200)\n",
    "    Y = stdNorm(200)\n",
    "    \n",
    "    Z = generateZed(X, Y, 0.5)\n",
    "    \n",
    "    new_path = \"C:\\\\Users\\\\James\\\\SkyDrive\\\\Documents\\\\HKU\\\\TechniquesInCompFin\\\\Q2-2_Results.txt\"\n",
    "    data = open(new_path, \"w\")\n",
    "    print(X, file = data)\n",
    "    print(Y, file = data)\n",
    "    print(Z, file = data)\n",
    "    print(np.corrcoef(X,Z))\n",
    "    print(np.corrcoef(X,Z), file= data)\n",
    "    \n",
    "    data.close()\n",
    "    \n",
    "    \n",
    "main()\n"
   ]
  }
 ],
 "metadata": {
  "kernelspec": {
   "display_name": "Python 3",
   "language": "python",
   "name": "python3"
  },
  "language_info": {
   "codemirror_mode": {
    "name": "ipython",
    "version": 3
   },
   "file_extension": ".py",
   "mimetype": "text/x-python",
   "name": "python",
   "nbconvert_exporter": "python",
   "pygments_lexer": "ipython3",
   "version": "3.6.0"
  }
 },
 "nbformat": 4,
 "nbformat_minor": 2
}
